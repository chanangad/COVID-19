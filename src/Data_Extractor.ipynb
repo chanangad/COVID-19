{
 "cells": [
  {
   "cell_type": "code",
   "execution_count": 1,
   "metadata": {},
   "outputs": [],
   "source": [
    "import os\n",
    "import time\n",
    "import json\n",
    "import numpy as np\n",
    "import pandas as pd\n",
    "from tqdm import tqdm"
   ]
  },
  {
   "cell_type": "code",
   "execution_count": 2,
   "metadata": {},
   "outputs": [],
   "source": [
    "def data_reader(fname):\n",
    "    with open(fname) as f:\n",
    "        data = json.load(f)\n",
    "    \n",
    "    try:\n",
    "        abstract = data['abstract'][0]['text'] + '\\n\\n'\n",
    "    except:\n",
    "        abstract = ''\n",
    "    \n",
    "    body = ''\n",
    "    for item in data['body_text']:\n",
    "        body += item['text']+'\\n\\n'\n",
    "        \n",
    "    text = abstract + body\n",
    "    \n",
    "    return data['paper_id'], text"
   ]
  },
  {
   "cell_type": "code",
   "execution_count": 3,
   "metadata": {},
   "outputs": [],
   "source": [
    "def extract_data(dirs):\n",
    "    data_df = pd.DataFrame(columns=['paper_id', 'body_text', 'source'])\n",
    "    for j in dirs:\n",
    "        print(j)\n",
    "        flist = os.listdir(f\"/Users/sachin/Data/Covid_19/{j}/{j}/\")\n",
    "        folder_name = f\"/Users/sachin/Data/Covid_19/{j}/{j}/\"\n",
    "        \n",
    "        paper_id_list = []\n",
    "        paper_body_list = []\n",
    "\n",
    "        for fname in tqdm(flist):\n",
    "            paper_id, text = data_reader(folder_name+fname)\n",
    "            paper_id_list.append(paper_id)\n",
    "            paper_body_list.append(text)\n",
    "        \n",
    "        df = pd.DataFrame(list(zip(paper_id_list, paper_body_list)), columns=['paper_id', 'body_text'])\n",
    "        df['source'] = j\n",
    "        \n",
    "        data_df = pd.concat([data_df, df])\n",
    "        \n",
    "    return data_df"
   ]
  },
  {
   "cell_type": "code",
   "execution_count": 4,
   "metadata": {},
   "outputs": [],
   "source": [
    "dirs = ['biorxiv_medrxiv', 'comm_use_subset', 'noncomm_use_subset', 'pmc_custom_license', 'custom_license']"
   ]
  },
  {
   "cell_type": "code",
   "execution_count": 5,
   "metadata": {},
   "outputs": [
    {
     "name": "stderr",
     "output_type": "stream",
     "text": [
      "  6%|▌         | 55/885 [00:00<00:01, 540.98it/s]"
     ]
    },
    {
     "name": "stdout",
     "output_type": "stream",
     "text": [
      "biorxiv_medrxiv\n"
     ]
    },
    {
     "name": "stderr",
     "output_type": "stream",
     "text": [
      "100%|██████████| 885/885 [00:00<00:00, 930.87it/s]\n",
      "  1%|          | 69/9118 [00:00<00:13, 674.92it/s]"
     ]
    },
    {
     "name": "stdout",
     "output_type": "stream",
     "text": [
      "comm_use_subset\n"
     ]
    },
    {
     "name": "stderr",
     "output_type": "stream",
     "text": [
      "100%|██████████| 9118/9118 [00:16<00:00, 540.73it/s]\n",
      "  3%|▎         | 72/2353 [00:00<00:03, 715.51it/s]"
     ]
    },
    {
     "name": "stdout",
     "output_type": "stream",
     "text": [
      "noncomm_use_subset\n"
     ]
    },
    {
     "name": "stderr",
     "output_type": "stream",
     "text": [
      "100%|██████████| 2353/2353 [00:04<00:00, 577.27it/s]\n",
      "  6%|▌         | 79/1426 [00:00<00:01, 786.59it/s]"
     ]
    },
    {
     "name": "stdout",
     "output_type": "stream",
     "text": [
      "pmc_custom_license\n"
     ]
    },
    {
     "name": "stderr",
     "output_type": "stream",
     "text": [
      "100%|██████████| 1426/1426 [00:02<00:00, 679.37it/s]\n",
      "  0%|          | 54/16959 [00:00<00:31, 537.81it/s]"
     ]
    },
    {
     "name": "stdout",
     "output_type": "stream",
     "text": [
      "custom_license\n"
     ]
    },
    {
     "name": "stderr",
     "output_type": "stream",
     "text": [
      "100%|██████████| 16959/16959 [00:32<00:00, 520.46it/s]"
     ]
    },
    {
     "name": "stdout",
     "output_type": "stream",
     "text": [
      "CPU times: user 36 s, sys: 7.88 s, total: 43.9 s\n",
      "Wall time: 56.7 s\n"
     ]
    },
    {
     "name": "stderr",
     "output_type": "stream",
     "text": [
      "\n"
     ]
    }
   ],
   "source": [
    "%%time\n",
    "data_df = extract_data(dirs)"
   ]
  },
  {
   "cell_type": "code",
   "execution_count": 6,
   "metadata": {},
   "outputs": [],
   "source": [
    "output_csv = '/Users/sachin/Data/Covid_19/data.csv'\n",
    "data_df.to_csv(output_csv, encoding='utf-8', index=False)"
   ]
  },
  {
   "cell_type": "code",
   "execution_count": 7,
   "metadata": {},
   "outputs": [],
   "source": [
    "df = pd.read_csv('/Users/sachin/Data/Covid_19/data.csv')"
   ]
  },
  {
   "cell_type": "code",
   "execution_count": 8,
   "metadata": {},
   "outputs": [
    {
     "data": {
      "text/html": [
       "<div>\n",
       "<style scoped>\n",
       "    .dataframe tbody tr th:only-of-type {\n",
       "        vertical-align: middle;\n",
       "    }\n",
       "\n",
       "    .dataframe tbody tr th {\n",
       "        vertical-align: top;\n",
       "    }\n",
       "\n",
       "    .dataframe thead th {\n",
       "        text-align: right;\n",
       "    }\n",
       "</style>\n",
       "<table border=\"1\" class=\"dataframe\">\n",
       "  <thead>\n",
       "    <tr style=\"text-align: right;\">\n",
       "      <th></th>\n",
       "      <th>paper_id</th>\n",
       "      <th>body_text</th>\n",
       "      <th>source</th>\n",
       "    </tr>\n",
       "  </thead>\n",
       "  <tbody>\n",
       "    <tr>\n",
       "      <th>0</th>\n",
       "      <td>f905f78b32f63c6d14a79984dfb33f1b358b8ab4</td>\n",
       "      <td>New anti-AIDS treatments must be continually d...</td>\n",
       "      <td>biorxiv_medrxiv</td>\n",
       "    </tr>\n",
       "    <tr>\n",
       "      <th>1</th>\n",
       "      <td>abcfffafab399149d4adadd6bb458c4994e2025d</td>\n",
       "      <td>Rationale: Several studies have estimated basi...</td>\n",
       "      <td>biorxiv_medrxiv</td>\n",
       "    </tr>\n",
       "    <tr>\n",
       "      <th>2</th>\n",
       "      <td>0cb9c296684ca5e71462d825cab2827854a01544</td>\n",
       "      <td>Summary Statement: DUX4 is thought to mediate ...</td>\n",
       "      <td>biorxiv_medrxiv</td>\n",
       "    </tr>\n",
       "    <tr>\n",
       "      <th>3</th>\n",
       "      <td>9bbfd3d34ee18ea1b9f4669331a6cee9c5992893</td>\n",
       "      <td>emerged in late 2019 1,2 . Initial outbreaks i...</td>\n",
       "      <td>biorxiv_medrxiv</td>\n",
       "    </tr>\n",
       "    <tr>\n",
       "      <th>4</th>\n",
       "      <td>1218f278a4f8d83dac14b23c8f698062812ef9d5</td>\n",
       "      <td>A novel coronavirus (SARS-CoV-2) first detecte...</td>\n",
       "      <td>biorxiv_medrxiv</td>\n",
       "    </tr>\n",
       "  </tbody>\n",
       "</table>\n",
       "</div>"
      ],
      "text/plain": [
       "                                   paper_id  \\\n",
       "0  f905f78b32f63c6d14a79984dfb33f1b358b8ab4   \n",
       "1  abcfffafab399149d4adadd6bb458c4994e2025d   \n",
       "2  0cb9c296684ca5e71462d825cab2827854a01544   \n",
       "3  9bbfd3d34ee18ea1b9f4669331a6cee9c5992893   \n",
       "4  1218f278a4f8d83dac14b23c8f698062812ef9d5   \n",
       "\n",
       "                                           body_text           source  \n",
       "0  New anti-AIDS treatments must be continually d...  biorxiv_medrxiv  \n",
       "1  Rationale: Several studies have estimated basi...  biorxiv_medrxiv  \n",
       "2  Summary Statement: DUX4 is thought to mediate ...  biorxiv_medrxiv  \n",
       "3  emerged in late 2019 1,2 . Initial outbreaks i...  biorxiv_medrxiv  \n",
       "4  A novel coronavirus (SARS-CoV-2) first detecte...  biorxiv_medrxiv  "
      ]
     },
     "execution_count": 8,
     "metadata": {},
     "output_type": "execute_result"
    }
   ],
   "source": [
    "df.head()"
   ]
  },
  {
   "cell_type": "code",
   "execution_count": 9,
   "metadata": {},
   "outputs": [
    {
     "data": {
      "text/plain": [
       "(30741, 3)"
      ]
     },
     "execution_count": 9,
     "metadata": {},
     "output_type": "execute_result"
    }
   ],
   "source": [
    "df.shape"
   ]
  },
  {
   "cell_type": "code",
   "execution_count": null,
   "metadata": {},
   "outputs": [],
   "source": []
  }
 ],
 "metadata": {
  "kernelspec": {
   "display_name": "Python 3",
   "language": "python",
   "name": "python3"
  },
  "language_info": {
   "codemirror_mode": {
    "name": "ipython",
    "version": 3
   },
   "file_extension": ".py",
   "mimetype": "text/x-python",
   "name": "python",
   "nbconvert_exporter": "python",
   "pygments_lexer": "ipython3",
   "version": "3.7.4"
  }
 },
 "nbformat": 4,
 "nbformat_minor": 4
}
